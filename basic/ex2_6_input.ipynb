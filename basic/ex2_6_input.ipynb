{
 "cells": [
  {
   "cell_type": "code",
   "execution_count": 1,
   "id": "15d2ef6c",
   "metadata": {},
   "outputs": [
    {
     "name": "stdout",
     "output_type": "stream",
     "text": [
      "키를 입력하세요157\n"
     ]
    }
   ],
   "source": [
    "height = input('키를 입력하세요')"
   ]
  },
  {
   "cell_type": "code",
   "execution_count": 5,
   "id": "5e08706c",
   "metadata": {},
   "outputs": [
    {
     "name": "stdout",
     "output_type": "stream",
     "text": [
      "권장 체중은 51.300000000000004kg 입니다.\n"
     ]
    }
   ],
   "source": [
    "weight= (float(height) - 100) * 0.9\n",
    "print (\"권장 체중은 \" + str(weight) + \"kg 입니다.\")"
   ]
  },
  {
   "cell_type": "code",
   "execution_count": 6,
   "id": "77e1d980",
   "metadata": {},
   "outputs": [
    {
     "name": "stdout",
     "output_type": "stream",
     "text": [
      "권장 체중은  51.300000000000004 kg 입니다.\n"
     ]
    }
   ],
   "source": [
    "weight= (float(height) - 100) * 0.9\n",
    "print (\"권장 체중은 \", weight, \"kg 입니다.\")"
   ]
  },
  {
   "cell_type": "code",
   "execution_count": 8,
   "id": "aee0be23",
   "metadata": {},
   "outputs": [
    {
     "name": "stdout",
     "output_type": "stream",
     "text": [
      "apple, mango\n"
     ]
    }
   ],
   "source": [
    "print('apple', 'mango', sep=', ')"
   ]
  },
  {
   "cell_type": "code",
   "execution_count": 9,
   "id": "d9daa6dd",
   "metadata": {},
   "outputs": [
    {
     "name": "stdout",
     "output_type": "stream",
     "text": [
      "원숭이 엉덩이는 빨개 빨가면 사과\n"
     ]
    }
   ],
   "source": [
    "print('원숭이 엉덩이는 빨개', end=' ')\n",
    "print('빨가면 사과')"
   ]
  },
  {
   "cell_type": "code",
   "execution_count": 10,
   "id": "d4c8b50d",
   "metadata": {},
   "outputs": [
    {
     "name": "stdout",
     "output_type": "stream",
     "text": [
      "산토끼 토끼야\n",
      "어디를 가느냐\n",
      "깡충깡충\n"
     ]
    }
   ],
   "source": [
    "print('산토끼 토끼야\\n어디를 가느냐\\n깡충깡충')"
   ]
  },
  {
   "cell_type": "code",
   "execution_count": 11,
   "id": "b9ae2cf9",
   "metadata": {},
   "outputs": [
    {
     "name": "stdout",
     "output_type": "stream",
     "text": [
      "나는 치킨을 먹고싶다.\n"
     ]
    }
   ],
   "source": [
    "my_food = '치킨'\n",
    "my_text = '나는 {}을 먹고싶다.'\n",
    "print(my_text.format(my_food))"
   ]
  },
  {
   "cell_type": "code",
   "execution_count": 35,
   "id": "b7ba6a40",
   "metadata": {},
   "outputs": [
    {
     "name": "stdout",
     "output_type": "stream",
     "text": [
      "나는 피자, 치킨을 먹고싶다.\n"
     ]
    }
   ],
   "source": [
    "my_food2 = ['피자', '치킨']\n",
    "print(my_text.format(', '.join(my_food2)))"
   ]
  },
  {
   "cell_type": "code",
   "execution_count": 39,
   "id": "28f9964e",
   "metadata": {},
   "outputs": [
    {
     "name": "stdout",
     "output_type": "stream",
     "text": [
      "나는 피자, 치킨이 먹고싶은데 치킨은 우리집에 배달이 안 된다.\n"
     ]
    }
   ],
   "source": [
    "my_text2 = \"나는 {p}, {c}이 먹고싶은데 {p}은 우리집에 배달이 안 된다.\"\n",
    "my_food2 = {'p':'피자', 'c':'치킨'}\n",
    "print(my_text2.format(p = '피자', c = '치킨'))"
   ]
  },
  {
   "cell_type": "code",
   "execution_count": 40,
   "id": "afdc8045",
   "metadata": {},
   "outputs": [],
   "source": [
    "f = open('abc.txt', 'w') # 쓰기모드로 파일 열기\n",
    "f.write('A B C D')\n",
    "f.close()"
   ]
  },
  {
   "cell_type": "code",
   "execution_count": 41,
   "id": "491bc738",
   "metadata": {},
   "outputs": [
    {
     "name": "stdout",
     "output_type": "stream",
     "text": [
      "A B C D\n"
     ]
    }
   ],
   "source": [
    "f = open('abc.txt', 'r') # 읽기 모드로 파일 열기\n",
    "print(f.read())\n",
    "f.close()"
   ]
  },
  {
   "cell_type": "code",
   "execution_count": 42,
   "id": "0e4c07f5",
   "metadata": {},
   "outputs": [],
   "source": [
    "f = open('abc.txt', 'a') # append 모드로 파일 열기\n",
    "f.write(' E F G')\n",
    "f.close()"
   ]
  },
  {
   "cell_type": "code",
   "execution_count": 47,
   "id": "0247a8a2",
   "metadata": {
    "scrolled": true
   },
   "outputs": [
    {
     "name": "stdout",
     "output_type": "stream",
     "text": [
      "A B C D E F G\n"
     ]
    }
   ],
   "source": [
    "f = open('abc.txt', 'r') # 읽기 모드로 파일 열기\n",
    "lines = f.readlines()\n",
    "for line in lines:\n",
    "    print(line)\n",
    "f.close()"
   ]
  },
  {
   "cell_type": "code",
   "execution_count": 50,
   "id": "4746213e",
   "metadata": {},
   "outputs": [
    {
     "name": "stdout",
     "output_type": "stream",
     "text": [
      "테스트 문장이다.\n",
      "\n",
      "개행도함파이썬 아직은 쉽다\n"
     ]
    }
   ],
   "source": [
    "# with 구문을 사용하면 with 구문 빠져나온 후 파일이 자동으로 close 된다.\n",
    "# file은 close하지 않으면 계속 리소스를 점유하고 있으므로 꼭 close 해야 한다.\n",
    "with open('test.txt', 'w') as f:\n",
    "    f.write('테스트 문장이다.\\n개행도함')\n",
    "    \n",
    "with open('test.txt', 'a') as f:\n",
    "    f.write('파이썬 아직은 쉽다')\n",
    "\n",
    "with open('test.txt', 'r') as f:\n",
    "    data = f.readlines()\n",
    "    for d in data:\n",
    "        print(d)    "
   ]
  },
  {
   "cell_type": "code",
   "execution_count": 51,
   "id": "331564cd",
   "metadata": {},
   "outputs": [],
   "source": [
    "# 파일 삭제하기\n",
    "import os\n",
    "filename = 'test.txt'\n",
    "if os.path.exists(filename):\n",
    "    os.remove(filename)"
   ]
  }
 ],
 "metadata": {
  "kernelspec": {
   "display_name": "Python 3 (ipykernel)",
   "language": "python",
   "name": "python3"
  },
  "language_info": {
   "codemirror_mode": {
    "name": "ipython",
    "version": 3
   },
   "file_extension": ".py",
   "mimetype": "text/x-python",
   "name": "python",
   "nbconvert_exporter": "python",
   "pygments_lexer": "ipython3",
   "version": "3.11.3"
  }
 },
 "nbformat": 4,
 "nbformat_minor": 5
}
