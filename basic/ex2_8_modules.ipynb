{
 "cells": [
  {
   "cell_type": "code",
   "execution_count": 5,
   "id": "eb6d48db",
   "metadata": {},
   "outputs": [
    {
     "name": "stdout",
     "output_type": "stream",
     "text": [
      "권장체중은 54.0 입니다.\n"
     ]
    },
    {
     "data": {
      "text/plain": [
       "54.0"
      ]
     },
     "execution_count": 5,
     "metadata": {},
     "output_type": "execute_result"
    }
   ],
   "source": [
    "import diet\n",
    "diet.get_recommend_weight(160, True)"
   ]
  },
  {
   "cell_type": "code",
   "execution_count": 7,
   "id": "c8d278eb",
   "metadata": {},
   "outputs": [
    {
     "name": "stdout",
     "output_type": "stream",
     "text": [
      "고구마:O\n",
      "떡볶이:X\n",
      "라면:X\n"
     ]
    },
    {
     "data": {
      "text/plain": [
       "{'고구마': 200, '떡볶이': 600, '라면': 8000}"
      ]
     },
     "execution_count": 7,
     "metadata": {},
     "output_type": "execute_result"
    }
   ],
   "source": [
    "import diet as dd\n",
    "dd.print_valid_menu()\n",
    "dd.menu"
   ]
  },
  {
   "cell_type": "code",
   "execution_count": 8,
   "id": "087e012b",
   "metadata": {},
   "outputs": [
    {
     "name": "stdout",
     "output_type": "stream",
     "text": [
      "권장체중은 60 입니다.\n"
     ]
    },
    {
     "data": {
      "text/plain": [
       "60"
      ]
     },
     "execution_count": 8,
     "metadata": {},
     "output_type": "execute_result"
    }
   ],
   "source": [
    "from diet import get_recommend_weight, print_valid_menu\n",
    "get_recommend_weight(160, False)"
   ]
  }
 ],
 "metadata": {
  "kernelspec": {
   "display_name": "Python 3 (ipykernel)",
   "language": "python",
   "name": "python3"
  },
  "language_info": {
   "codemirror_mode": {
    "name": "ipython",
    "version": 3
   },
   "file_extension": ".py",
   "mimetype": "text/x-python",
   "name": "python",
   "nbconvert_exporter": "python",
   "pygments_lexer": "ipython3",
   "version": "3.11.3"
  }
 },
 "nbformat": 4,
 "nbformat_minor": 5
}
