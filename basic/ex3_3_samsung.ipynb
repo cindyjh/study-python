{
 "cells": [
  {
   "cell_type": "code",
   "execution_count": 25,
   "id": "5921d0fc",
   "metadata": {},
   "outputs": [
    {
     "name": "stdout",
     "output_type": "stream",
     "text": [
      "[*********************100%%**********************]  1 of 1 completed\n"
     ]
    }
   ],
   "source": [
    "import pandas as pd\n",
    "import numpy as np\n",
    "from pandas_datareader import data\n",
    "import yfinance as yf\n",
    "\n",
    "yf.pdr_override()\n",
    "\n",
    "df = data.get_data_yahoo('005930.KS', start='2023-06-01', end='2023-07-09')\n",
    "# df = data.get_data_yahoo('005930.KS', '2020-01-01')"
   ]
  },
  {
   "cell_type": "code",
   "execution_count": 21,
   "id": "9760a4b9",
   "metadata": {},
   "outputs": [
    {
     "name": "stdout",
     "output_type": "stream",
     "text": [
      "<class 'pandas.core.frame.DataFrame'>\n",
      "DatetimeIndex: 26 entries, 2023-06-01 to 2023-07-07\n",
      "Data columns (total 6 columns):\n",
      " #   Column     Non-Null Count  Dtype  \n",
      "---  ------     --------------  -----  \n",
      " 0   Open       26 non-null     float64\n",
      " 1   High       26 non-null     float64\n",
      " 2   Low        26 non-null     float64\n",
      " 3   Close      26 non-null     float64\n",
      " 4   Adj Close  26 non-null     float64\n",
      " 5   Volume     26 non-null     int64  \n",
      "dtypes: float64(5), int64(1)\n",
      "memory usage: 1.4 KB\n"
     ]
    }
   ],
   "source": [
    "df.info()"
   ]
  },
  {
   "cell_type": "code",
   "execution_count": 26,
   "id": "72eba043",
   "metadata": {},
   "outputs": [
    {
     "data": {
      "text/html": [
       "<div>\n",
       "<style scoped>\n",
       "    .dataframe tbody tr th:only-of-type {\n",
       "        vertical-align: middle;\n",
       "    }\n",
       "\n",
       "    .dataframe tbody tr th {\n",
       "        vertical-align: top;\n",
       "    }\n",
       "\n",
       "    .dataframe thead th {\n",
       "        text-align: right;\n",
       "    }\n",
       "</style>\n",
       "<table border=\"1\" class=\"dataframe\">\n",
       "  <thead>\n",
       "    <tr style=\"text-align: right;\">\n",
       "      <th></th>\n",
       "      <th>Open</th>\n",
       "      <th>High</th>\n",
       "      <th>Low</th>\n",
       "      <th>Close</th>\n",
       "      <th>Adj Close</th>\n",
       "      <th>Volume</th>\n",
       "    </tr>\n",
       "    <tr>\n",
       "      <th>Date</th>\n",
       "      <th></th>\n",
       "      <th></th>\n",
       "      <th></th>\n",
       "      <th></th>\n",
       "      <th></th>\n",
       "      <th></th>\n",
       "    </tr>\n",
       "  </thead>\n",
       "  <tbody>\n",
       "    <tr>\n",
       "      <th>2023-06-01</th>\n",
       "      <td>70900.0</td>\n",
       "      <td>71600.0</td>\n",
       "      <td>70600.0</td>\n",
       "      <td>70900.0</td>\n",
       "      <td>70547.937500</td>\n",
       "      <td>14669296</td>\n",
       "    </tr>\n",
       "    <tr>\n",
       "      <th>2023-06-02</th>\n",
       "      <td>71700.0</td>\n",
       "      <td>72200.0</td>\n",
       "      <td>71600.0</td>\n",
       "      <td>72200.0</td>\n",
       "      <td>71841.484375</td>\n",
       "      <td>12161798</td>\n",
       "    </tr>\n",
       "    <tr>\n",
       "      <th>2023-06-05</th>\n",
       "      <td>72700.0</td>\n",
       "      <td>72700.0</td>\n",
       "      <td>71400.0</td>\n",
       "      <td>71700.0</td>\n",
       "      <td>71343.968750</td>\n",
       "      <td>12686829</td>\n",
       "    </tr>\n",
       "    <tr>\n",
       "      <th>2023-06-07</th>\n",
       "      <td>71300.0</td>\n",
       "      <td>71600.0</td>\n",
       "      <td>70800.0</td>\n",
       "      <td>71000.0</td>\n",
       "      <td>70647.445312</td>\n",
       "      <td>14796613</td>\n",
       "    </tr>\n",
       "    <tr>\n",
       "      <th>2023-06-08</th>\n",
       "      <td>70400.0</td>\n",
       "      <td>70900.0</td>\n",
       "      <td>70000.0</td>\n",
       "      <td>70900.0</td>\n",
       "      <td>70547.937500</td>\n",
       "      <td>19165568</td>\n",
       "    </tr>\n",
       "  </tbody>\n",
       "</table>\n",
       "</div>"
      ],
      "text/plain": [
       "               Open     High      Low    Close     Adj Close    Volume\n",
       "Date                                                                  \n",
       "2023-06-01  70900.0  71600.0  70600.0  70900.0  70547.937500  14669296\n",
       "2023-06-02  71700.0  72200.0  71600.0  72200.0  71841.484375  12161798\n",
       "2023-06-05  72700.0  72700.0  71400.0  71700.0  71343.968750  12686829\n",
       "2023-06-07  71300.0  71600.0  70800.0  71000.0  70647.445312  14796613\n",
       "2023-06-08  70400.0  70900.0  70000.0  70900.0  70547.937500  19165568"
      ]
     },
     "execution_count": 26,
     "metadata": {},
     "output_type": "execute_result"
    }
   ],
   "source": [
    "df.head()"
   ]
  },
  {
   "cell_type": "code",
   "execution_count": null,
   "id": "3ed8b445",
   "metadata": {},
   "outputs": [],
   "source": []
  },
  {
   "cell_type": "code",
   "execution_count": null,
   "id": "0a80846b",
   "metadata": {},
   "outputs": [],
   "source": []
  },
  {
   "cell_type": "code",
   "execution_count": null,
   "id": "60843266",
   "metadata": {},
   "outputs": [],
   "source": []
  },
  {
   "cell_type": "code",
   "execution_count": null,
   "id": "025ab023",
   "metadata": {},
   "outputs": [],
   "source": []
  }
 ],
 "metadata": {
  "kernelspec": {
   "display_name": "Python 3 (ipykernel)",
   "language": "python",
   "name": "python3"
  },
  "language_info": {
   "codemirror_mode": {
    "name": "ipython",
    "version": 3
   },
   "file_extension": ".py",
   "mimetype": "text/x-python",
   "name": "python",
   "nbconvert_exporter": "python",
   "pygments_lexer": "ipython3",
   "version": "3.11.3"
  }
 },
 "nbformat": 4,
 "nbformat_minor": 5
}
