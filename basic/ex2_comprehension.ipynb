{
 "cells": [
  {
   "cell_type": "code",
   "execution_count": 2,
   "id": "cdfdea84",
   "metadata": {
    "scrolled": true
   },
   "outputs": [
    {
     "name": "stdout",
     "output_type": "stream",
     "text": [
      "[85, 95, 75, 70, 100, 100]\n"
     ]
    }
   ],
   "source": [
    "scores = [80, 90, 70, 65, 100, 98]\n",
    "new_scores = []\n",
    "for s in scores:\n",
    "    new_score = s + 5\n",
    "    if new_score > 100:\n",
    "        new_score = 100\n",
    "    new_scores.append(new_score)\n",
    "print(new_scores)"
   ]
  },
  {
   "cell_type": "code",
   "execution_count": null,
   "id": "89d02a78",
   "metadata": {},
   "outputs": [],
   "source": []
  },
  {
   "cell_type": "code",
   "execution_count": 11,
   "id": "d8bd7ba0",
   "metadata": {},
   "outputs": [],
   "source": [
    "new_scores2 = [min(s+5, 100) for s in scores]"
   ]
  },
  {
   "cell_type": "code",
   "execution_count": 12,
   "id": "f392f951",
   "metadata": {},
   "outputs": [
    {
     "name": "stdout",
     "output_type": "stream",
     "text": [
      "[85, 95, 75, 70, 100, 100]\n"
     ]
    }
   ],
   "source": [
    "print(new_scores2)"
   ]
  }
 ],
 "metadata": {
  "kernelspec": {
   "display_name": "Python 3 (ipykernel)",
   "language": "python",
   "name": "python3"
  },
  "language_info": {
   "codemirror_mode": {
    "name": "ipython",
    "version": 3
   },
   "file_extension": ".py",
   "mimetype": "text/x-python",
   "name": "python",
   "nbconvert_exporter": "python",
   "pygments_lexer": "ipython3",
   "version": "3.11.3"
  }
 },
 "nbformat": 4,
 "nbformat_minor": 5
}
