{
 "cells": [
  {
   "cell_type": "code",
   "execution_count": 9,
   "id": "903f6c20",
   "metadata": {},
   "outputs": [
    {
     "name": "stdout",
     "output_type": "stream",
     "text": [
      "카푸치노\n"
     ]
    }
   ],
   "source": [
    "weather='비'\n",
    "today_temp = 30\n",
    "\n",
    "if weather== '맑음':\n",
    "    if today_temp > 0:\n",
    "        print('아이스 아메')\n",
    "    elif today_temp == 0:\n",
    "        print('미지근 아메')\n",
    "    else:\n",
    "        print('뜨 아메')\n",
    "else:\n",
    "    print('카푸치노')"
   ]
  },
  {
   "cell_type": "code",
   "execution_count": 10,
   "id": "3008be2d",
   "metadata": {},
   "outputs": [
    {
     "name": "stdout",
     "output_type": "stream",
     "text": [
      "동결\n"
     ]
    }
   ],
   "source": [
    "math_score = 80\n",
    "eng_score = 100\n",
    "\n",
    "if eng_score >= 90 and math_score >= 90:\n",
    "    print('용돈인상')\n",
    "elif eng_score <= 80 and math_score <= 80:\n",
    "    print('용돈삭감')\n",
    "else:\n",
    "    print('동결')"
   ]
  },
  {
   "cell_type": "code",
   "execution_count": null,
   "id": "161ddae9",
   "metadata": {},
   "outputs": [],
   "source": []
  }
 ],
 "metadata": {
  "kernelspec": {
   "display_name": "Python 3 (ipykernel)",
   "language": "python",
   "name": "python3"
  },
  "language_info": {
   "codemirror_mode": {
    "name": "ipython",
    "version": 3
   },
   "file_extension": ".py",
   "mimetype": "text/x-python",
   "name": "python",
   "nbconvert_exporter": "python",
   "pygments_lexer": "ipython3",
   "version": "3.11.3"
  }
 },
 "nbformat": 4,
 "nbformat_minor": 5
}
