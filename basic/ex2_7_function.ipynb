{
 "cells": [
  {
   "cell_type": "code",
   "execution_count": 12,
   "id": "20355810",
   "metadata": {},
   "outputs": [
    {
     "name": "stdout",
     "output_type": "stream",
     "text": [
      "today's temperature: 30\n",
      "Special for todsy: ice americano\n"
     ]
    }
   ],
   "source": [
    "def get_recommend_coffee(temp):\n",
    "    if temp > 0:\n",
    "        return 'ice americano'\n",
    "    else:\n",
    "        return 'hot americano'\n",
    "\n",
    "current_temp = 30\n",
    "recommend_coffee = get_recommend_coffee(current_temp)\n",
    "print(\"today's temperature: {}\\nSpecial for todsy: {}\".format(current_temp, recommend_coffee))"
   ]
  },
  {
   "cell_type": "code",
   "execution_count": 17,
   "id": "e8fe0b99",
   "metadata": {},
   "outputs": [
    {
     "name": "stdout",
     "output_type": "stream",
     "text": [
      "APPLE apple\n"
     ]
    }
   ],
   "source": [
    "def get_words_by_case(word):\n",
    "    return word.upper(), word.lower()\n",
    "\n",
    "word_by_upper, word_by_lower = get_words_by_case('Apple')\n",
    "print(word_by_upper, word_by_lower)"
   ]
  },
  {
   "cell_type": "code",
   "execution_count": 21,
   "id": "1983ad03",
   "metadata": {
    "scrolled": true
   },
   "outputs": [
    {
     "data": {
      "text/plain": [
       "6"
      ]
     },
     "execution_count": 21,
     "metadata": {},
     "output_type": "execute_result"
    }
   ],
   "source": [
    "# 이런게 있네....\n",
    "def sum(*args):\n",
    "    result = 0\n",
    "    for num in args:\n",
    "        result = result + num\n",
    "    return result\n",
    "\n",
    "sum(1, 2, 3)"
   ]
  },
  {
   "cell_type": "code",
   "execution_count": 22,
   "id": "9ac007eb",
   "metadata": {},
   "outputs": [
    {
     "data": {
      "text/plain": [
       "105"
      ]
     },
     "execution_count": 22,
     "metadata": {},
     "output_type": "execute_result"
    }
   ],
   "source": [
    "# lambda 인자 : 함수 본문\n",
    "# 최대한 한 줄로 간결하게 하려고 ..\n",
    "(lambda x: x+5)(100)"
   ]
  },
  {
   "cell_type": "code",
   "execution_count": 24,
   "id": "72f78e25",
   "metadata": {},
   "outputs": [
    {
     "data": {
      "text/plain": [
       "57"
      ]
     },
     "execution_count": 24,
     "metadata": {},
     "output_type": "execute_result"
    }
   ],
   "source": [
    "# lambda에 if else 넣기\n",
    "weight = (lambda height, isMan: (height - 100) * 0.9 if isMan else (height - 100))\n",
    "weight(157, False)"
   ]
  }
 ],
 "metadata": {
  "kernelspec": {
   "display_name": "Python 3 (ipykernel)",
   "language": "python",
   "name": "python3"
  },
  "language_info": {
   "codemirror_mode": {
    "name": "ipython",
    "version": 3
   },
   "file_extension": ".py",
   "mimetype": "text/x-python",
   "name": "python",
   "nbconvert_exporter": "python",
   "pygments_lexer": "ipython3",
   "version": "3.11.3"
  }
 },
 "nbformat": 4,
 "nbformat_minor": 5
}
